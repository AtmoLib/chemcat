{
 "cells": [
  {
   "cell_type": "markdown",
   "id": "ae76c7b3",
   "metadata": {},
   "source": [
    "# Databases Tutorial\n",
    "constructing the right chemical network is not easy, particularly finding which species exist in the thermodynamic databases is not trivial (until now).  This tutorial shows how to look up for all available chemical species in the JANAF or CEA databases, searching by atoms, atomic numbers, total number of atoms, and charge.\n",
    "\n",
    "Let's start off importing the necessary modules:"
   ]
  },
  {
   "cell_type": "code",
   "execution_count": 1,
   "id": "a574f6ab",
   "metadata": {},
   "outputs": [],
   "source": [
    "import chemcat.cea as cea\n",
    "import chemcat.janaf as janaf"
   ]
  },
  {
   "cell_type": "markdown",
   "id": "2922c392",
   "metadata": {},
   "source": [
    "## Look up by Atom\n",
    "To search for species containing specific atoms call the `find_species()` function with a list of the atomic species requested:"
   ]
  },
  {
   "cell_type": "code",
   "execution_count": 2,
   "id": "c6e5ec15",
   "metadata": {},
   "outputs": [
    {
     "name": "stdout",
     "output_type": "stream",
     "text": [
      "JANAF salts with any amount of sodium:\n",
      "['LiONa' 'Na2' 'Na2SO4' 'NaAlF4' 'NaBO2' '(NaBr)2' 'NaBr' '(NaCl)2' 'NaCl'\n",
      " '(NaCN)2' 'NaCN' '(NaF)2' 'NaF' 'Na' 'NaH' 'NaO' '(NaOH)2' 'NaOH']\n",
      "\n",
      "CEA salts with any amount of sodium:\n",
      "['KNa' 'Na' 'NaCN' 'NaH' 'NaNO2' 'NaNO3' 'NaO' 'NaOH' 'Na2' 'Na2O' 'Na2O2'\n",
      " 'Na2O2H2']\n"
     ]
    }
   ],
   "source": [
    "# Get all sodium-bearing species:\n",
    "janaf_salts = janaf.find_species(['Na'])\n",
    "print(f'JANAF salts with any amount of sodium:\\n{janaf_salts}')\n",
    "\n",
    "cea_salts = cea.find_species(['Na'])\n",
    "print(f'\\nCEA salts with any amount of sodium:\\n{cea_salts}')"
   ]
  },
  {
   "cell_type": "markdown",
   "id": "bcf5d2ed",
   "metadata": {},
   "source": [
    "Multiple atomic species can be requested:"
   ]
  },
  {
   "cell_type": "code",
   "execution_count": 3,
   "id": "47c7111f",
   "metadata": {},
   "outputs": [
    {
     "name": "stdout",
     "output_type": "stream",
     "text": [
      "JANAF salts with any amount of sodium and oxygen:\n",
      "['LiONa' 'Na2SO4' 'NaBO2' 'NaO' '(NaOH)2' 'NaOH']\n",
      "\n",
      "CEA salts with any amount of sodium and oxigen:\n",
      "['NaNO2' 'NaNO3' 'NaO' 'NaOH' 'Na2O' 'Na2O2' 'Na2O2H2']\n"
     ]
    }
   ],
   "source": [
    "# Get all sodium- and oxigen-bearing species:\n",
    "janaf_sodium_oxide = janaf.find_species(['Na', 'O'])\n",
    "print(f'JANAF salts with any amount of sodium and oxygen:\\n{janaf_sodium_oxide}')\n",
    "\n",
    "cea_sodium_oxide = cea.find_species(['Na', 'O'])\n",
    "print(f'\\nCEA salts with any amount of sodium and oxigen:\\n{cea_sodium_oxide}')"
   ]
  },
  {
   "cell_type": "markdown",
   "id": "e06f8843",
   "metadata": {},
   "source": [
    "## Look up by Atomic Number\n",
    "To search for species containing specific atoms call the `find_species()` function with a dict of the atomic species requested and their atomic values:"
   ]
  },
  {
   "cell_type": "code",
   "execution_count": 4,
   "id": "27408546",
   "metadata": {},
   "outputs": [
    {
     "name": "stdout",
     "output_type": "stream",
     "text": [
      "JANAF salts with one sodium atom:\n",
      "['LiONa' 'NaAlF4' 'NaBO2' 'NaBr' 'NaCl' 'NaCN' 'NaF' 'Na' 'NaH' 'NaO'\n",
      " 'NaOH']\n",
      "\n",
      "CEA salts with one sodium atom:\n",
      "['KNa' 'Na' 'NaCN' 'NaH' 'NaNO2' 'NaNO3' 'NaO' 'NaOH']\n"
     ]
    }
   ],
   "source": [
    "# Get species containing exactly two Na atoms:\n",
    "janaf_salts1 = janaf.find_species({'Na':1})\n",
    "print(f'JANAF salts with one sodium atom:\\n{janaf_salts1}')\n",
    "\n",
    "cea_salts1 = cea.find_species({'Na':1})\n",
    "print(f'\\nCEA salts with one sodium atom:\\n{cea_salts1}')"
   ]
  },
  {
   "cell_type": "markdown",
   "id": "bda3db5b",
   "metadata": {},
   "source": [
    "Another example:"
   ]
  },
  {
   "cell_type": "code",
   "execution_count": 5,
   "id": "d53c2b92",
   "metadata": {},
   "outputs": [
    {
     "name": "stdout",
     "output_type": "stream",
     "text": [
      "JANAF salts with two sodium atoms:\n",
      "['Na2' 'Na2SO4' '(NaBr)2' '(NaCl)2' '(NaCN)2' '(NaF)2' '(NaOH)2']\n",
      "\n",
      "CEA salts with two sodium atoms:\n",
      "['Na2' 'Na2O' 'Na2O2' 'Na2O2H2']\n"
     ]
    }
   ],
   "source": [
    "# Get species containing exactly two Na atoms:\n",
    "janaf_salts2 = janaf.find_species({'Na':2})\n",
    "print(f'JANAF salts with two sodium atoms:\\n{janaf_salts2}')\n",
    "\n",
    "cea_salts2 = cea.find_species({'Na':2})\n",
    "print(f'\\nCEA salts with two sodium atoms:\\n{cea_salts2}')"
   ]
  },
  {
   "cell_type": "markdown",
   "id": "303c27f8",
   "metadata": {},
   "source": [
    "Use `None` as atomic number to request any non-zero amount of atoms for a given species:"
   ]
  },
  {
   "cell_type": "code",
   "execution_count": 6,
   "id": "968d0a61",
   "metadata": {},
   "outputs": [
    {
     "name": "stdout",
     "output_type": "stream",
     "text": [
      "JANAF ethane hydrocarbons:\n",
      "['C2H2' 'C2H4' 'C2H4O' 'C2HCl' 'C2HF' 'C2H']\n",
      "\n",
      "CEA ethane hydrocarbons:\n",
      "['C2H' 'C2H2,acetylene' 'C2H2,vinylidene' 'CH2CO,ketene' 'O(CH)2O'\n",
      " 'HO(CO)2OH' 'C2H3,vinyl' 'CH3CN' 'CH3CO,acetyl' 'C2H4' 'C2H4O,ethylen-o'\n",
      " 'CH3CHO,ethanal' 'CH3COOH' 'OHCH2COOH' 'C2H5' 'C2H6' 'CH3N2CH3' 'C2H5OH'\n",
      " 'CH3OCH3' 'CH3O2CH3' 'HCCN' 'HCCO' '(HCOOH)2']\n"
     ]
    }
   ],
   "source": [
    "# Species containing exactly two carbon atoms and any amount of hydrogen:\n",
    "janaf_ethane = janaf.find_species({'H':None, 'C':2})\n",
    "print(f'JANAF ethane hydrocarbons:\\n{janaf_ethane}')\n",
    "\n",
    "cea_ethane = cea.find_species({'H':None, 'C':2})\n",
    "print(f'\\nCEA ethane hydrocarbons:\\n{cea_ethane}')"
   ]
  },
  {
   "cell_type": "markdown",
   "id": "ba8b9d5e",
   "metadata": {},
   "source": [
    "## Look up by Number of Total Atoms\n",
    "To search for species containing a specific number of atoms call the `find_species()` function with the `num_atoms` argument:"
   ]
  },
  {
   "cell_type": "code",
   "execution_count": 7,
   "id": "5c364d19",
   "metadata": {},
   "outputs": [
    {
     "name": "stdout",
     "output_type": "stream",
     "text": [
      "JANAF diatomic monoxides (and O2):\n",
      "['AlO' 'BaO' 'BeO' 'BO' 'CaO' 'ClO' 'CO' 'CrO' 'CsO' 'CuO' 'FeO' 'HgO'\n",
      " 'KO' 'LiO' 'MgO' 'MoO' 'NaO' 'NbO' 'NO' 'O2' 'OD' 'OF' 'OH' 'PbO' 'PO'\n",
      " 'SiO' 'SO' 'SrO' 'TaO' 'TiO' 'VO' 'WO' 'ZrO']\n",
      "\n",
      "CEA diatomic monoxides (and O2):\n",
      "['CO' 'FeO' 'KO' 'NO' 'NaO' 'OD' 'OH' 'O2' 'AlO' 'MgO' 'SO' 'SiO' 'TiO'\n",
      " 'VO']\n"
     ]
    }
   ],
   "source": [
    "# Species containing exactly two atoms and at least one oxygen:\n",
    "janaf_diatomic_monoxides = janaf.find_species(['O'], num_atoms=2)\n",
    "print(f'JANAF diatomic monoxides (and O2):\\n{janaf_diatomic_monoxides}')\n",
    "\n",
    "cea_diatomic_monoxides = cea.find_species(['O'], num_atoms=2)\n",
    "print(f'\\nCEA diatomic monoxides (and O2):\\n{cea_diatomic_monoxides}')"
   ]
  },
  {
   "cell_type": "markdown",
   "id": "4827f83e",
   "metadata": {},
   "source": [
    "## Look up Ionic Species\n",
    "So far we have seen only neutral species, if we want to look up for charged species we need to call the `find_species()` function with the `charge` argument:"
   ]
  },
  {
   "cell_type": "code",
   "execution_count": 8,
   "id": "2d335823",
   "metadata": {},
   "outputs": [
    {
     "name": "stdout",
     "output_type": "stream",
     "text": [
      "All JANAF sulfuric species:\n",
      "['AlS' 'BaS' 'BeS' 'BS' 'CaS' 'CF3SF5' 'ClSSCl' 'COS' 'CS2' 'Cs2SO4' 'CS'\n",
      " 'D2S' 'FeS' 'FSSF' 'H2S' 'HBS' 'HBS+' 'HS' 'HSO3F' 'K2SO4' 'Li2SO4' 'MgS'\n",
      " 'Na2SO4' 'NiS' 'NS' 'O2S(OH)2' 'OSF2' 'P4S3' 'PbS' 'PSBr3' 'PSF3' 'PSF'\n",
      " 'PS' 'S2Cl' 'S2F10' 'S2' 'S3' 'S4' 'S5' 'S6' 'S7' 'S8' 'SBrF5' 'SCl2'\n",
      " 'SCl2+' 'SClF5' 'SCl' 'SCl+' 'SD' 'SF2' 'SF2-' 'SF2+' 'SF3' 'SF3-' 'SF3+'\n",
      " 'SF4' 'SF4-' 'SF4+' 'SF5' 'SF5-' 'SF5+' 'SF6' 'SF6-' 'SF' 'SF-' 'SF+' 'S'\n",
      " 'S-' 'S+' 'SiS' 'SO2Cl2' 'SO2ClF' 'SO2F2' 'SO2' 'SO3' 'SO' 'SPCl3' 'SrS'\n",
      " 'SSF2' 'SSO']\n",
      "\n",
      "Neutral JANAF sulfuric species:\n",
      "['AlS' 'BaS' 'BeS' 'BS' 'CaS' 'CF3SF5' 'ClSSCl' 'COS' 'CS2' 'Cs2SO4' 'CS'\n",
      " 'D2S' 'FeS' 'FSSF' 'H2S' 'HBS' 'HS' 'HSO3F' 'K2SO4' 'Li2SO4' 'MgS'\n",
      " 'Na2SO4' 'NiS' 'NS' 'O2S(OH)2' 'OSF2' 'P4S3' 'PbS' 'PSBr3' 'PSF3' 'PSF'\n",
      " 'PS' 'S2Cl' 'S2F10' 'S2' 'S3' 'S4' 'S5' 'S6' 'S7' 'S8' 'SBrF5' 'SCl2'\n",
      " 'SClF5' 'SCl' 'SD' 'SF2' 'SF3' 'SF4' 'SF5' 'SF6' 'SF' 'S' 'SiS' 'SO2Cl2'\n",
      " 'SO2ClF' 'SO2F2' 'SO2' 'SO3' 'SO' 'SPCl3' 'SrS' 'SSF2' 'SSO']\n",
      "\n",
      "Charged JANAF sulfuric species:\n",
      "['HBS+' 'SCl2+' 'SCl+' 'SF2-' 'SF2+' 'SF3-' 'SF3+' 'SF4-' 'SF4+' 'SF5-'\n",
      " 'SF5+' 'SF6-' 'SF-' 'SF+' 'S-' 'S+']\n"
     ]
    }
   ],
   "source": [
    "# Look up sulfuric species in JANAF:\n",
    "janaf_sulfur = janaf.find_species(['S'], charge='all')\n",
    "print(f'All JANAF sulfuric species:\\n{janaf_sulfur}')\n",
    "\n",
    "janaf_sulfur_neutral = janaf.find_species(['S'], charge='neutral')\n",
    "print(f'\\nNeutral JANAF sulfuric species:\\n{janaf_sulfur_neutral}')\n",
    "\n",
    "janaf_sulfur_ions = janaf.find_species(['S'], charge='ion')\n",
    "print(f'\\nCharged JANAF sulfuric species:\\n{janaf_sulfur_ions}')"
   ]
  },
  {
   "cell_type": "markdown",
   "id": "de6a60d4",
   "metadata": {},
   "source": [
    "Now the same look up, but for CEA:"
   ]
  },
  {
   "cell_type": "code",
   "execution_count": 9,
   "id": "ca053fb8",
   "metadata": {},
   "outputs": [
    {
     "name": "stdout",
     "output_type": "stream",
     "text": [
      "All CEA sulfuric species:\n",
      "['AlS' 'AlS2' 'Al2S' 'Al2S2' 'COS' 'CS' 'CS2' 'C2S2' 'C3OS' 'C3S2' 'D2S'\n",
      " 'H2S' 'H2SO4' 'MgS' 'S' 'S+' 'S-' 'SD' 'SH' 'SH-' 'SN' 'SO' 'SO-' 'SO2'\n",
      " 'SO2-' 'SO3' 'S2' 'S2-' 'S2O' 'S3' 'S4' 'S5' 'S6' 'S7' 'S8' 'SiS' 'SiS2']\n",
      "\n",
      "Neutral CEA sulfuric species:\n",
      "['AlS' 'AlS2' 'Al2S' 'Al2S2' 'COS' 'CS' 'CS2' 'C2S2' 'C3OS' 'C3S2' 'D2S'\n",
      " 'H2S' 'H2SO4' 'MgS' 'S' 'SD' 'SH' 'SN' 'SO' 'SO2' 'SO3' 'S2' 'S2O' 'S3'\n",
      " 'S4' 'S5' 'S6' 'S7' 'S8' 'SiS' 'SiS2']\n",
      "\n",
      "Charged CEA sulfuric species:\n",
      "['S+' 'S-' 'SH-' 'SO-' 'SO2-' 'S2-']\n"
     ]
    }
   ],
   "source": [
    "# Look up sulfuric species in CEA:\n",
    "cea_sulfur = cea.find_species(['S'], charge='all')\n",
    "print(f'All CEA sulfuric species:\\n{cea_sulfur}')\n",
    "\n",
    "cea_sulfur_neutral = cea.find_species(['S'], charge='neutral')\n",
    "print(f'\\nNeutral CEA sulfuric species:\\n{cea_sulfur_neutral}')\n",
    "\n",
    "cea_sulfur_ions = cea.find_species(['S'], charge='ion')\n",
    "print(f'\\nCharged CEA sulfuric species:\\n{cea_sulfur_ions}')"
   ]
  }
 ],
 "metadata": {
  "kernelspec": {
   "display_name": "py39",
   "language": "python",
   "name": "py39"
  },
  "language_info": {
   "codemirror_mode": {
    "name": "ipython",
    "version": 3
   },
   "file_extension": ".py",
   "mimetype": "text/x-python",
   "name": "python",
   "nbconvert_exporter": "python",
   "pygments_lexer": "ipython3",
   "version": "3.9.13"
  }
 },
 "nbformat": 4,
 "nbformat_minor": 5
}
